{
 "cells": [
  {
   "cell_type": "code",
   "execution_count": 1,
   "metadata": {},
   "outputs": [
    {
     "name": "stdout",
     "output_type": "stream",
     "text": [
      "Directory of Files:\n",
      " ['.ipynb_checkpoints', '3 - Naive Bayes - Movie Reviews.ipynb', 'aclImdb', 'aclImdb_v1.tar.gz', 'xliw17.pdf']\n"
     ]
    }
   ],
   "source": [
    "# Standard Machine Learning Imports\n",
    "import pandas as pd \n",
    "# Display up to 60 columns of a dataframe\n",
    "pd.set_option('display.max_columns', 60)\n",
    "import numpy as np \n",
    "import matplotlib.pyplot as plt \n",
    "import seaborn as sns\n",
    "import os\n",
    "os.listdir()\n",
    "# Text Precrocessing standard imports\n",
    "import nltk\n",
    "# nltk.download()\n",
    "from nltk.corpus import stopwords\n",
    "import re\n",
    "import string\n",
    "from scipy.sparse import csr_matrix,csc_matrix,coo_matrix,lil_matrix\n",
    "print(\"Directory of Files:\\n\",os.listdir())"
   ]
  },
  {
   "cell_type": "code",
   "execution_count": 3,
   "metadata": {},
   "outputs": [],
   "source": [
    "# # The data is in a tarfile, which needs to be used in the working directory\n",
    "import tarfile\n",
    "filename = \"aclImdb_v1.tar.gz\"\n",
    "tf = tarfile.open(filename)\n",
    "tf.extractall()"
   ]
  },
  {
   "cell_type": "code",
   "execution_count": 4,
   "metadata": {},
   "outputs": [],
   "source": [
    "# Open up all of the files in the positive and negative folders in the training data folder\n",
    "import glob \n",
    "\n",
    "# Need to encode the text as utf-8\n",
    "enc = 'utf-8'\n",
    "\n",
    "# Path to positive txt reviews\n",
    "pos_paths = [\"aclImdb/train/pos/*.txt\", \"aclImdb/test/pos/*.txt\"]\n",
    "\n",
    "# Positive review files for Dataframe\n",
    "positive_reviews = []\n",
    "\n",
    "# List of file names to open and store into a dataframe for processing\n",
    "for pos_path in pos_paths:\n",
    "    files = glob.glob(pos_path)\n",
    "    for file in files:\n",
    "        txt = open(file, encoding=enc).read()\n",
    "        positive_reviews.append(txt)\n",
    "    \n",
    "# Path to the negative txt reviews\n",
    "neg_paths = [\"aclImdb/train/neg/*.txt\", \"aclImdb/test/neg/*.txt\"]\n",
    "\n",
    "# Positive review files for Dataframe\n",
    "negative_reviews = []\n",
    "\n",
    "# List of file names to open and store into a dataframe for processing\n",
    "for neg_path in neg_paths:\n",
    "    files = glob.glob(neg_path)\n",
    "    for file in files:\n",
    "        txt = open(file, encoding=enc).read()\n",
    "        negative_reviews.append(txt)\n",
    "    \n",
    "    "
   ]
  },
  {
   "cell_type": "code",
   "execution_count": 5,
   "metadata": {},
   "outputs": [],
   "source": [
    "def preprocess_text(txt):\n",
    "    '''Lower the text'''\n",
    "    txt = txt.lower()\n",
    "    '''Remove the <br /><br /> in each review'''\n",
    "    txt = txt.replace(\"<br /><br />\",\"\")\n",
    "    '''Remove the stopwords from a string of text'''\n",
    "    words = txt.split()\n",
    "    table = str.maketrans('', '', string.punctuation)\n",
    "    stripped = [w.translate(table) for w in words]\n",
    "    '''Remove the stopwords from a list of words'''\n",
    "    stop_words = set(stopwords.words('english'))\n",
    "    stripped = [word for word in stripped if word not in stop_words]\n",
    "    return ' '.join(stripped)\n",
    "\n",
    "def concat_docs(all_txt_files):\n",
    "    '''Parameters\n",
    "    all_txt_files, … iterable containing strings\n",
    "\n",
    "    Returns\n",
    "    concatenated_docs\n",
    "    The concatenated strings.'''\n",
    "    try:\n",
    "        _ = (e for e in all_txt_files)\n",
    "    except TypeError:\n",
    "        raise TypeError(all_txt_files, 'is not iterable')\n",
    "        \n",
    "    return \" \".join(all_txt_files)\n"
   ]
  },
  {
   "cell_type": "code",
   "execution_count": 6,
   "metadata": {},
   "outputs": [
    {
     "data": {
      "text/html": [
       "<div>\n",
       "<style scoped>\n",
       "    .dataframe tbody tr th:only-of-type {\n",
       "        vertical-align: middle;\n",
       "    }\n",
       "\n",
       "    .dataframe tbody tr th {\n",
       "        vertical-align: top;\n",
       "    }\n",
       "\n",
       "    .dataframe thead th {\n",
       "        text-align: right;\n",
       "    }\n",
       "</style>\n",
       "<table border=\"1\" class=\"dataframe\">\n",
       "  <thead>\n",
       "    <tr style=\"text-align: right;\">\n",
       "      <th></th>\n",
       "      <th>reviews</th>\n",
       "      <th>targets</th>\n",
       "    </tr>\n",
       "  </thead>\n",
       "  <tbody>\n",
       "    <tr>\n",
       "      <th>0</th>\n",
       "      <td>Bromwell High is a cartoon comedy. It ran at t...</td>\n",
       "      <td>1</td>\n",
       "    </tr>\n",
       "    <tr>\n",
       "      <th>1</th>\n",
       "      <td>Homelessness (or Houselessness as George Carli...</td>\n",
       "      <td>1</td>\n",
       "    </tr>\n",
       "    <tr>\n",
       "      <th>2</th>\n",
       "      <td>Brilliant over-acting by Lesley Ann Warren. Be...</td>\n",
       "      <td>1</td>\n",
       "    </tr>\n",
       "    <tr>\n",
       "      <th>3</th>\n",
       "      <td>This is easily the most underrated film inn th...</td>\n",
       "      <td>1</td>\n",
       "    </tr>\n",
       "    <tr>\n",
       "      <th>4</th>\n",
       "      <td>This is not the typical Mel Brooks film. It wa...</td>\n",
       "      <td>1</td>\n",
       "    </tr>\n",
       "  </tbody>\n",
       "</table>\n",
       "</div>"
      ],
      "text/plain": [
       "                                             reviews  targets\n",
       "0  Bromwell High is a cartoon comedy. It ran at t...        1\n",
       "1  Homelessness (or Houselessness as George Carli...        1\n",
       "2  Brilliant over-acting by Lesley Ann Warren. Be...        1\n",
       "3  This is easily the most underrated film inn th...        1\n",
       "4  This is not the typical Mel Brooks film. It wa...        1"
      ]
     },
     "execution_count": 6,
     "metadata": {},
     "output_type": "execute_result"
    }
   ],
   "source": [
    "# Reviews into a dataframe for preprocessing\n",
    "\n",
    "# Targets for the training data\n",
    "targets = [1]*len(positive_reviews) + [0]*len(negative_reviews)\n",
    "# Reviews\n",
    "revs = positive_reviews+negative_reviews\n",
    "reviews_dataframe = pd.DataFrame({'reviews': revs, 'targets':targets})\n",
    "\n",
    "# Print the head of the dataframe\n",
    "reviews_dataframe.head()"
   ]
  },
  {
   "cell_type": "code",
   "execution_count": 7,
   "metadata": {},
   "outputs": [
    {
     "name": "stdout",
     "output_type": "stream",
     "text": [
      "5859849\n"
     ]
    }
   ],
   "source": [
    "# Use CountVectorizer to organize the data\n",
    "from sklearn.feature_extraction.text import CountVectorizer\n",
    "# Preprocces the reviews\n",
    "reviews_dataframe['reviews_processed'] = reviews_dataframe['reviews'].apply(lambda x: preprocess_text(x))\n",
    "\n",
    "vect = CountVectorizer()\n",
    "reviews = vect.fit_transform(reviews_dataframe['reviews_processed'])\n"
   ]
  },
  {
   "cell_type": "code",
   "execution_count": 8,
   "metadata": {},
   "outputs": [
    {
     "data": {
      "image/png": "[encoded data removed]",
      "text/plain": [
       "<Figure size 432x288 with 1 Axes>"
      ]
     },
     "metadata": {
      "needs_background": "light"
     },
     "output_type": "display_data"
    }
   ],
   "source": [
    "# Plot the Length of each review \n",
    "\n",
    "reviews_length_array = reviews_dataframe['reviews_processed'].apply(lambda x: len(x)).values\n",
    "\n",
    "plt.title(\"Review Length\")\n",
    "plt.hist(reviews_length_array,bins=50)\n",
    "plt.xticks(rotation=45)\n",
    "plt.ylabel('Count')\n",
    "plt.xlabel('Length of Review')\n",
    "plt.show()"
   ]
  },
  {
   "cell_type": "code",
   "execution_count": 9,
   "metadata": {},
   "outputs": [
    {
     "data": {
      "image/png": "[encoded data removed]",
      "text/plain": [
       "<Figure size 432x288 with 1 Axes>"
      ]
     },
     "metadata": {
      "needs_background": "light"
     },
     "output_type": "display_data"
    }
   ],
   "source": [
    "# Examine the top unigrams using count venctorizer\n",
    "\n",
    "num_words = 25\n",
    "\n",
    "word_count_vector = reviews.sum(axis=0)\n",
    "word_count_tuples = [(word,word_count_vector[0,word_feature_idx]) for word,word_feature_idx in vect.vocabulary_.items()]\n",
    "\n",
    "popular_words = sorted(word_count_tuples,key=lambda x: x[1], reverse=True)[:num_words]\n",
    "\n",
    "words = [i[0] for i in popular_words]\n",
    "counts = [i[1] for i in popular_words]\n",
    "\n",
    "plt.bar(words,counts)\n",
    "plt.title(\"Most Popular Words\")\n",
    "plt.xticks(rotation=90)\n",
    "plt.ylabel('Count')\n",
    "plt.xlabel('Word')\n",
    "plt.show()"
   ]
  },
  {
   "cell_type": "code",
   "execution_count": 10,
   "metadata": {},
   "outputs": [
    {
     "name": "stdout",
     "output_type": "stream",
     "text": [
      "Length of the Dataframe: 49102 reviews\n"
     ]
    }
   ],
   "source": [
    "# Get the Length of the Dataframe\n",
    "N = len(reviews_dataframe)\n",
    "print(f\"Length of the Dataframe: {N} reviews\")"
   ]
  },
  {
   "cell_type": "code",
   "execution_count": 11,
   "metadata": {},
   "outputs": [],
   "source": [
    "# Seperate Targets in the dataframe\n",
    "targets = reviews_dataframe['targets'].values"
   ]
  },
  {
   "cell_type": "code",
   "execution_count": 12,
   "metadata": {},
   "outputs": [
    {
     "name": "stdout",
     "output_type": "stream",
     "text": [
      "Shape of reviews array:  (49102, 218862)\n",
      "Shape of targets array:  (49102,)\n"
     ]
    }
   ],
   "source": [
    "# Get an Idea of the size of each array\n",
    "print(\"Shape of reviews array: \",reviews.shape)\n",
    "print(\"Shape of targets array: \",targets.shape)"
   ]
  },
  {
   "cell_type": "code",
   "execution_count": 13,
   "metadata": {},
   "outputs": [],
   "source": [
    "# Split the Data into train and test sets\n",
    "from sklearn.model_selection import train_test_split\n",
    "X_train, X_test, y_train, y_test = train_test_split(reviews, targets, test_size=0.33)"
   ]
  },
  {
   "cell_type": "code",
   "execution_count": 79,
   "metadata": {},
   "outputs": [
    {
     "name": "stdout",
     "output_type": "stream",
     "text": [
      "0.08282184600830078\n",
      "Classifer Score for MultinomialNB:  0.8551592199456924\n"
     ]
    }
   ],
   "source": [
    "# Use the MultinomialNB classifier for this dataset\n",
    "from sklearn.naive_bayes import MultinomialNB\n",
    "from sklearn.metrics import accuracy_score\n",
    "start = time.time()\n",
    "classifer = MultinomialNB()\n",
    "classifer.fit(X_train,y_train)\n",
    "predictions = classifer.predict(X_test)\n",
    "print(time.time() - start)\n",
    "print(\"Classifer Score for MultinomialNB: \", accuracy_score(y_test,predictions))\n"
   ]
  },
  {
   "cell_type": "code",
   "execution_count": 80,
   "metadata": {},
   "outputs": [],
   "source": [
    "class MultinomialBayesianClassifier():\n",
    "    \n",
    "    def __init__(self, alpha=1):\n",
    "        self.alpha = alpha\n",
    "        \n",
    "\n",
    "    def get_total_words_by_class(self):\n",
    "        # Concatonate the Features and Targets to split the array by classes\n",
    "        \n",
    "        sum_1 = self.X.sum(axis=1)\n",
    "        tar = np.reshape(self.y, (self.N, 1))\n",
    "        self.count_words_by_class = {cls:0 for cls,_ in self.priors.items()}\n",
    "        for t,s in zip(tar, sum_1):\n",
    "            self.count_words_by_class[t[0]] += s[0,0]\n",
    "        \n",
    "        return self.count_words_by_class\n",
    "    \n",
    "    def feature_count(self):\n",
    "        \n",
    "        # get the likelihood of the words by class (counts of each word given class)\n",
    "        likelihood_counts = lil_matrix((len(self.priors.keys()),self.D))\n",
    "        \n",
    "        for cls in self.priors.keys():\n",
    "            likelihood_counts[cls,:] = self.X[self.y==cls].sum(axis=0)\n",
    "        \n",
    "        return csr_matrix(likelihood_counts)\n",
    "    \n",
    "    \n",
    "    def get_prior_counts(self):\n",
    "        # Calculat the count of each class\n",
    "        prior_counts = {}\n",
    "        target_values, counts = np.unique(self.y,return_counts=True)\n",
    "        for val,count in zip(target_values, counts):\n",
    "            prior_counts[val] = count\n",
    "        return prior_counts\n",
    "    \n",
    "    def get_prior_proba(self):\n",
    "        # Calculate the Prior Probability of each class\n",
    "        priors = {t:v/self.N for t,v in self.prior_counts.items()}\n",
    "        return priors\n",
    "    \n",
    "    def get_feature_log_proba(self):\n",
    "        \n",
    "        log_proba = lil_matrix((len(self.priors.keys()), self.D))\n",
    "        \n",
    "        for cls in self.priors.keys():\n",
    "            t = ((self.feature_counts_[cls,:].toarray() + 1)/(self.total_words_by_class[cls]+self.D))\n",
    "            log_proba[cls,:] = np.log(t)\n",
    "            \n",
    "        return log_proba.toarray()\n",
    "    \n",
    "    def predict(self,X_t):\n",
    "        \n",
    "        # Make predictions using linear algebra\n",
    "        predictions = X_t.dot(self.feature_log_proba.T)\n",
    "        priors = np.array([np.log(self.priors[cls]) for cls in self.priors.keys()])\n",
    "        predictions = np.argmax(predictions+priors,axis=1)\n",
    "        \n",
    "        return predictions\n",
    "           \n",
    "    \n",
    "    def fit(self,X,y):\n",
    "        \n",
    "        # Input should be a matrix of count frequencies and targets\n",
    "        # X should be a count vectorizer instance \n",
    "        # y is a 1-D array \n",
    "        \n",
    "        self.X = X\n",
    "        self.y = y\n",
    "        \n",
    "        # Dimensions of the Dataset\n",
    "        self.N, self.D = X.shape\n",
    "        \n",
    "        # Count of each Class\n",
    "        self.prior_counts = self.get_prior_counts()\n",
    "        \n",
    "        # Prior Probabilibies\n",
    "        self.priors = self.get_prior_proba()\n",
    "        \n",
    "        # Get the total number of words in each class for the naive bayes formula\n",
    "        self.total_words_by_class = self.get_total_words_by_class()\n",
    "        \n",
    "        # Feature counts of the dataset\n",
    "        self.feature_counts_ = self.feature_count()\n",
    "        \n",
    "        # Vocab Size for Smoothing\n",
    "        self.vocab_size_ = self.D\n",
    "        \n",
    "        # Log Probability for features Nclass x D\n",
    "        self.feature_log_proba = self.get_feature_log_proba()\n",
    "        \n"
   ]
  },
  {
   "cell_type": "code",
   "execution_count": 83,
   "metadata": {},
   "outputs": [
    {
     "name": "stdout",
     "output_type": "stream",
     "text": [
      "Accuracy 0.8551592199456924\n"
     ]
    }
   ],
   "source": [
    "import time\n",
    "classifier = MultinomialBayesianClassifier()\n",
    "classifier.fit(X_train,y_train)\n",
    "\n",
    "preds = classifier.predict(X_test)\n",
    "\n",
    "# Accuracy Score\n",
    "c=0\n",
    "N ,_ = X_test.shape\n",
    "for i,j in zip(preds,y_test):\n",
    "    if i==j:\n",
    "        c+=1\n",
    "print(\"Accuracy\",c/N)\n",
    "\n",
    "# This is the Same exact score as the sklearn version"
   ]
  },
  {
   "cell_type": "code",
   "execution_count": null,
   "metadata": {},
   "outputs": [],
   "source": []
  }
 ],
 "metadata": {
  "kernelspec": {
   "display_name": "Python 3",
   "language": "python",
   "name": "python3"
  },
  "language_info": {
   "codemirror_mode": {
    "name": "ipython",
    "version": 3
   },
   "file_extension": ".py",
   "mimetype": "text/x-python",
   "name": "python",
   "nbconvert_exporter": "python",
   "pygments_lexer": "ipython3",
   "version": "3.8.3"
  }
 },
 "nbformat": 4,
 "nbformat_minor": 4
}
